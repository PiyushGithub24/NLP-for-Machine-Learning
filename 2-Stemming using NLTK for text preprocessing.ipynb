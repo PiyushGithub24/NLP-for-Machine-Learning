{
 "cells": [
  {
   "cell_type": "markdown",
   "id": "be0765f0-06a3-4d3e-a729-018ce385a16a",
   "metadata": {},
   "source": [
    "# Stemming using NLTK for text preprocessing :"
   ]
  },
  {
   "cell_type": "markdown",
   "id": "505b07c8-449b-472d-9080-bc0ad714b44c",
   "metadata": {},
   "source": [
    "### Explanation of Stemming in NLP :"
   ]
  },
  {
   "cell_type": "markdown",
   "id": "9390415b-7540-457e-a7eb-bb618ef910c0",
   "metadata": {},
   "source": [
    "Stemming is the process of reducing words to their base or root form by removing suffixes and prefixes. This is useful in Natural Language Processing (NLP) and Natural Language Understanding (NLU) to help analyze text efficiently by grouping similar words together."
   ]
  },
  {
   "cell_type": "markdown",
   "id": "f8865ab5-cad3-4cbe-b5a2-402a902ac10b",
   "metadata": {},
   "source": [
    "### How Stemming Works :"
   ]
  },
  {
   "cell_type": "markdown",
   "id": "b6e0b870-2b25-43b4-8517-89e4ab6bcfc9",
   "metadata": {},
   "source": [
    "Stemming removes affixes (prefixes and suffixes) to obtain the root form of a word. However, this root form may not always be a valid word in the dictionary."
   ]
  },
  {
   "cell_type": "markdown",
   "id": "3e5f56b7-a527-4e41-b3eb-0d2581d4fcad",
   "metadata": {},
   "source": [
    "### Common Stemming Algorithms :"
   ]
  },
  {
   "cell_type": "markdown",
   "id": "73bcd57f-c74b-48bf-84f5-859d25aad107",
   "metadata": {},
   "source": [
    "##### 1.Porter Stemmer (Most common, rule-based)\n",
    "##### 2.RegexStemmer (matcing pattern)\n",
    "##### 3.Snowball Stemmer (Improved version of Porter)"
   ]
  },
  {
   "cell_type": "code",
   "execution_count": 23,
   "id": "5e3c0b20-9449-4e1d-af1c-9b2adf3afcd7",
   "metadata": {},
   "outputs": [],
   "source": [
    "## Classification Problem\n",
    "## Comments of product is a positive review or negative review\n",
    "## Reviews----> eating, eat,eaten [going,gone,goes]--->go\n",
    "\n",
    "words=[\"eating\",\"eats\",\"eaten\",\"writing\",\"writes\",\"programming\",\"programs\",\"history\",\"finally\",\"finalized\"]"
   ]
  },
  {
   "cell_type": "markdown",
   "id": "7a5ef035-1522-4c52-afb5-7158d4816da7",
   "metadata": {},
   "source": [
    "### PorterStemmer"
   ]
  },
  {
   "cell_type": "code",
   "execution_count": 24,
   "id": "e8eee97d-3d5b-4277-952c-1399ce9397af",
   "metadata": {},
   "outputs": [],
   "source": [
    "from nltk.stem import PorterStemmer\n",
    "stemming=PorterStemmer()"
   ]
  },
  {
   "cell_type": "code",
   "execution_count": 25,
   "id": "9f04e47c-290a-4389-a580-6b75f6b5b887",
   "metadata": {},
   "outputs": [
    {
     "name": "stdout",
     "output_type": "stream",
     "text": [
      "eating---->eat\n",
      "eats---->eat\n",
      "eaten---->eaten\n",
      "writing---->write\n",
      "writes---->write\n",
      "programming---->program\n",
      "programs---->program\n",
      "history---->histori\n",
      "finally---->final\n",
      "finalized---->final\n"
     ]
    }
   ],
   "source": [
    "for word in words:\n",
    "    print(word+\"---->\"+stemming.stem(word))"
   ]
  },
  {
   "cell_type": "code",
   "execution_count": 26,
   "id": "427b8795-20c3-44c1-8411-e3762e5221c4",
   "metadata": {},
   "outputs": [
    {
     "data": {
      "text/plain": [
       "'congratul'"
      ]
     },
     "execution_count": 26,
     "metadata": {},
     "output_type": "execute_result"
    }
   ],
   "source": [
    "stemming.stem('congratulations')"
   ]
  },
  {
   "cell_type": "code",
   "execution_count": 27,
   "id": "b7bfe243-5a88-484a-b187-bca46aa22c99",
   "metadata": {},
   "outputs": [
    {
     "data": {
      "text/plain": [
       "'sit'"
      ]
     },
     "execution_count": 27,
     "metadata": {},
     "output_type": "execute_result"
    }
   ],
   "source": [
    "stemming.stem(\"sitting\")"
   ]
  },
  {
   "cell_type": "code",
   "execution_count": 28,
   "id": "a948e00c-5234-4ca7-a3ad-ee690504c704",
   "metadata": {},
   "outputs": [],
   "source": [
    "## sometimes this PorterStemmer produces word which lost its actual meaning"
   ]
  },
  {
   "cell_type": "markdown",
   "id": "9c1a48bc-c959-40ed-a453-de67b536840e",
   "metadata": {},
   "source": [
    "## RegexpStemmer class :"
   ]
  },
  {
   "cell_type": "markdown",
   "id": "5c759714-bb35-48ac-8d1c-653d08a36ca0",
   "metadata": {},
   "source": [
    "NLTK has RegexpStemmer class with the help of which we can easily implement Regular Expression Stemmer algorithms. It basically takes a single regular expression and removes any prefix or suffix that matches the expression. Let us see an example"
   ]
  },
  {
   "cell_type": "code",
   "execution_count": 29,
   "id": "51122766-cbed-4c62-85b9-c7aa998393b9",
   "metadata": {},
   "outputs": [],
   "source": [
    "from nltk.stem import RegexpStemmer"
   ]
  },
  {
   "cell_type": "code",
   "execution_count": 30,
   "id": "1c2ea0b2-ff0f-420f-b71e-04c339d5eba9",
   "metadata": {},
   "outputs": [],
   "source": [
    "reg_stemmer=RegexpStemmer('ing$|s$|e$|able$', min=4)"
   ]
  },
  {
   "cell_type": "code",
   "execution_count": 31,
   "id": "a11bc765-5fe8-4720-8a09-1692b1b15095",
   "metadata": {},
   "outputs": [
    {
     "data": {
      "text/plain": [
       "'eat'"
      ]
     },
     "execution_count": 31,
     "metadata": {},
     "output_type": "execute_result"
    }
   ],
   "source": [
    "reg_stemmer.stem('eating')"
   ]
  },
  {
   "cell_type": "code",
   "execution_count": 32,
   "id": "72784047-cd03-40e3-881d-912b7aeaedd6",
   "metadata": {},
   "outputs": [
    {
     "data": {
      "text/plain": [
       "'ingeat'"
      ]
     },
     "execution_count": 32,
     "metadata": {},
     "output_type": "execute_result"
    }
   ],
   "source": [
    "reg_stemmer.stem('ingeating')"
   ]
  },
  {
   "cell_type": "markdown",
   "id": "bb558d85-c1f1-4ea3-90f4-250cc2667041",
   "metadata": {},
   "source": [
    "### Snowball Stemmer :"
   ]
  },
  {
   "cell_type": "markdown",
   "id": "17d1086b-02b3-42be-aeb8-680f65e58cb2",
   "metadata": {},
   "source": [
    "It is a stemming algorithm which is also known as the Porter2 stemming algorithm as it is a better version of the Porter Stemmer since some issues of it were fixed in this stemmer."
   ]
  },
  {
   "cell_type": "code",
   "execution_count": 33,
   "id": "b947a2d4-b2e1-4750-9ead-2729910025fc",
   "metadata": {},
   "outputs": [],
   "source": [
    "from nltk.stem import SnowballStemmer\n",
    "snowballsstemmer=SnowballStemmer('english')"
   ]
  },
  {
   "cell_type": "code",
   "execution_count": 34,
   "id": "663dbe6c-125f-47de-8ea1-cf52140e5f03",
   "metadata": {},
   "outputs": [
    {
     "name": "stdout",
     "output_type": "stream",
     "text": [
      "eating---->eat\n",
      "eats---->eat\n",
      "eaten---->eaten\n",
      "writing---->write\n",
      "writes---->write\n",
      "programming---->program\n",
      "programs---->program\n",
      "history---->histori\n",
      "finally---->final\n",
      "finalized---->final\n"
     ]
    }
   ],
   "source": [
    "for word in words:\n",
    "    print(word+\"---->\"+snowballsstemmer.stem(word))"
   ]
  },
  {
   "cell_type": "code",
   "execution_count": 35,
   "id": "770a5dca-20b3-48d1-af5f-5ecf0798b778",
   "metadata": {},
   "outputs": [
    {
     "name": "stdout",
     "output_type": "stream",
     "text": [
      "fairli\n",
      "sportingli\n"
     ]
    }
   ],
   "source": [
    "print(stemming.stem(\"fairly\"))\n",
    "print(stemming.stem(\"sportingly\"))"
   ]
  },
  {
   "cell_type": "code",
   "execution_count": 36,
   "id": "f20d5435-45a6-4cd0-bb67-7f59d7aab245",
   "metadata": {},
   "outputs": [
    {
     "name": "stdout",
     "output_type": "stream",
     "text": [
      "fair\n",
      "sport\n"
     ]
    }
   ],
   "source": [
    "print(snowballsstemmer.stem(\"fairly\"))\n",
    "print(snowballsstemmer.stem(\"sportingly\"))"
   ]
  },
  {
   "cell_type": "code",
   "execution_count": 37,
   "id": "4a466d65-62fd-442d-995d-4ff89da54746",
   "metadata": {},
   "outputs": [
    {
     "data": {
      "text/plain": [
       "'goe'"
      ]
     },
     "execution_count": 37,
     "metadata": {},
     "output_type": "execute_result"
    }
   ],
   "source": [
    "snowballsstemmer.stem('goes')"
   ]
  },
  {
   "cell_type": "code",
   "execution_count": 38,
   "id": "1e71489e-99e6-4cea-8dab-be686c0cab1f",
   "metadata": {},
   "outputs": [
    {
     "data": {
      "text/plain": [
       "'goe'"
      ]
     },
     "execution_count": 38,
     "metadata": {},
     "output_type": "execute_result"
    }
   ],
   "source": [
    "stemming.stem('goes')"
   ]
  },
  {
   "cell_type": "code",
   "execution_count": null,
   "id": "4a289e27-8411-46a6-8551-6d64bd0116ed",
   "metadata": {},
   "outputs": [],
   "source": []
  }
 ],
 "metadata": {
  "kernelspec": {
   "display_name": "Python 3 (ipykernel)",
   "language": "python",
   "name": "python3"
  },
  "language_info": {
   "codemirror_mode": {
    "name": "ipython",
    "version": 3
   },
   "file_extension": ".py",
   "mimetype": "text/x-python",
   "name": "python",
   "nbconvert_exporter": "python",
   "pygments_lexer": "ipython3",
   "version": "3.12.3"
  }
 },
 "nbformat": 4,
 "nbformat_minor": 5
}
