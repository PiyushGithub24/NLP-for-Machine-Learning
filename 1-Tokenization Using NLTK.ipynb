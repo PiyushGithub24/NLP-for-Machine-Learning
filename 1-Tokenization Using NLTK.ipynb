{
 "cells": [
  {
   "cell_type": "markdown",
   "id": "78d0fb46-8ace-4331-b96f-5d8210798449",
   "metadata": {},
   "source": [
    "# Tokenization Using NLTK (Natural Language ToolKit) :"
   ]
  },
  {
   "cell_type": "code",
   "execution_count": 1,
   "id": "697e6bd3-79a5-40e0-bd21-27d1b51d3c56",
   "metadata": {},
   "outputs": [
    {
     "name": "stdout",
     "output_type": "stream",
     "text": [
      "Defaulting to user installation because normal site-packages is not writeable\n",
      "Requirement already satisfied: nltk in c:\\programdata\\anaconda3\\lib\\site-packages (3.9.1)\n",
      "Requirement already satisfied: click in c:\\users\\ayush kumar\\appdata\\roaming\\python\\python312\\site-packages (from nltk) (8.1.7)\n",
      "Requirement already satisfied: joblib in c:\\programdata\\anaconda3\\lib\\site-packages (from nltk) (1.4.2)\n",
      "Requirement already satisfied: regex>=2021.8.3 in c:\\programdata\\anaconda3\\lib\\site-packages (from nltk) (2024.9.11)\n",
      "Requirement already satisfied: tqdm in c:\\programdata\\anaconda3\\lib\\site-packages (from nltk) (4.66.5)\n",
      "Requirement already satisfied: colorama in c:\\users\\ayush kumar\\appdata\\roaming\\python\\python312\\site-packages (from click->nltk) (0.4.6)\n"
     ]
    }
   ],
   "source": [
    "#installing nltk\n",
    "!pip install nltk"
   ]
  },
  {
   "cell_type": "code",
   "execution_count": 2,
   "id": "21f2fd46-43d1-40a6-a6c3-c5488277241c",
   "metadata": {},
   "outputs": [],
   "source": [
    "corpus=\"\"\"Hello Welcome,to piyush's NLP Tutorials.\n",
    "Please do explore the entire notebook! to become good  in NLP.\n",
    "\"\"\""
   ]
  },
  {
   "cell_type": "code",
   "execution_count": 3,
   "id": "9148d936-dc9a-4dbf-815e-478e311542bf",
   "metadata": {},
   "outputs": [
    {
     "name": "stdout",
     "output_type": "stream",
     "text": [
      "Hello Welcome,to piyush's NLP Tutorials.\n",
      "Please do explore the entire notebook! to become good  in NLP.\n",
      "\n"
     ]
    }
   ],
   "source": [
    "print(corpus)"
   ]
  },
  {
   "cell_type": "markdown",
   "id": "339eb0f3-4c2b-44c0-bd20-c4214dc9ae88",
   "metadata": {},
   "source": [
    "## Tokenization\n",
    "#### paragraphs-->Sentence"
   ]
  },
  {
   "cell_type": "code",
   "execution_count": 4,
   "id": "9e59ae25-b6f8-4c57-94b3-2680984b799c",
   "metadata": {},
   "outputs": [],
   "source": [
    "from nltk.tokenize import sent_tokenize"
   ]
  },
  {
   "cell_type": "code",
   "execution_count": 5,
   "id": "c4eb50af-a286-414c-b1ec-3a523434d495",
   "metadata": {},
   "outputs": [],
   "source": [
    "documents=sent_tokenize(corpus)"
   ]
  },
  {
   "cell_type": "code",
   "execution_count": 7,
   "id": "bed8afc7-b4f9-4443-a03c-3d67ec3b8116",
   "metadata": {},
   "outputs": [
    {
     "data": {
      "text/plain": [
       "list"
      ]
     },
     "execution_count": 7,
     "metadata": {},
     "output_type": "execute_result"
    }
   ],
   "source": [
    "type(documents)     #produces list of sentences"
   ]
  },
  {
   "cell_type": "code",
   "execution_count": 8,
   "id": "0ea1428b-2e4b-40fa-a6d2-5894e16ac426",
   "metadata": {},
   "outputs": [
    {
     "name": "stdout",
     "output_type": "stream",
     "text": [
      "Hello Welcome,to piyush's NLP Tutorials.\n",
      "Please do explore the entire notebook!\n",
      "to become good  in NLP.\n"
     ]
    }
   ],
   "source": [
    "for sentence in documents:\n",
    "    print(sentence)"
   ]
  },
  {
   "cell_type": "markdown",
   "id": "ddba4645-43af-4da0-9fa5-cca683c2abf7",
   "metadata": {},
   "source": [
    "## Tokenization \n",
    "#### Paragraph-->words\n",
    "#### sentence--->words"
   ]
  },
  {
   "cell_type": "code",
   "execution_count": 9,
   "id": "3d00d36f-b714-46d4-bcdf-51787c1c5863",
   "metadata": {},
   "outputs": [],
   "source": [
    "from nltk.tokenize import word_tokenize"
   ]
  },
  {
   "cell_type": "code",
   "execution_count": 10,
   "id": "6ae33614-d632-4126-a60b-c4ee139cdc69",
   "metadata": {},
   "outputs": [
    {
     "data": {
      "text/plain": [
       "['Hello',\n",
       " 'Welcome',\n",
       " ',',\n",
       " 'to',\n",
       " 'piyush',\n",
       " \"'s\",\n",
       " 'NLP',\n",
       " 'Tutorials',\n",
       " '.',\n",
       " 'Please',\n",
       " 'do',\n",
       " 'explore',\n",
       " 'the',\n",
       " 'entire',\n",
       " 'notebook',\n",
       " '!',\n",
       " 'to',\n",
       " 'become',\n",
       " 'good',\n",
       " 'in',\n",
       " 'NLP',\n",
       " '.']"
      ]
     },
     "execution_count": 10,
     "metadata": {},
     "output_type": "execute_result"
    }
   ],
   "source": [
    "word_tokenize(corpus)"
   ]
  },
  {
   "cell_type": "code",
   "execution_count": 11,
   "id": "86099927-312d-4c7e-9fb6-e631d93bf52d",
   "metadata": {},
   "outputs": [
    {
     "name": "stdout",
     "output_type": "stream",
     "text": [
      "['Hello', 'Welcome', ',', 'to', 'piyush', \"'s\", 'NLP', 'Tutorials', '.']\n",
      "['Please', 'do', 'explore', 'the', 'entire', 'notebook', '!']\n",
      "['to', 'become', 'good', 'in', 'NLP', '.']\n"
     ]
    }
   ],
   "source": [
    "for sentence in documents:\n",
    "    print(word_tokenize(sentence))"
   ]
  },
  {
   "cell_type": "markdown",
   "id": "f0ef0d32-b35c-43cb-84dd-ba15919fb4d1",
   "metadata": {},
   "source": [
    "### wordpunct_tokenize :"
   ]
  },
  {
   "cell_type": "code",
   "execution_count": 12,
   "id": "9de846c7-5210-4d48-8f13-d4f1d60f0cad",
   "metadata": {},
   "outputs": [],
   "source": [
    "from nltk.tokenize import wordpunct_tokenize"
   ]
  },
  {
   "cell_type": "code",
   "execution_count": 14,
   "id": "7001d5a8-2336-42ba-a417-6c7939966c8c",
   "metadata": {},
   "outputs": [
    {
     "data": {
      "text/plain": [
       "['Hello',\n",
       " 'Welcome',\n",
       " ',',\n",
       " 'to',\n",
       " 'piyush',\n",
       " \"'\",\n",
       " 's',\n",
       " 'NLP',\n",
       " 'Tutorials',\n",
       " '.',\n",
       " 'Please',\n",
       " 'do',\n",
       " 'explore',\n",
       " 'the',\n",
       " 'entire',\n",
       " 'notebook',\n",
       " '!',\n",
       " 'to',\n",
       " 'become',\n",
       " 'good',\n",
       " 'in',\n",
       " 'NLP',\n",
       " '.']"
      ]
     },
     "execution_count": 14,
     "metadata": {},
     "output_type": "execute_result"
    }
   ],
   "source": [
    "wordpunct_tokenize(corpus)    #here \" ' \" (apostrophe) is also considered as a seperate word"
   ]
  },
  {
   "cell_type": "markdown",
   "id": "96fe1d99-f90d-4543-90ac-d12d99815096",
   "metadata": {},
   "source": [
    "### TreebankWordTokenizer :"
   ]
  },
  {
   "cell_type": "code",
   "execution_count": 15,
   "id": "d86b479f-0a43-4cb6-9471-3d21009e3fdd",
   "metadata": {},
   "outputs": [],
   "source": [
    "from nltk.tokenize import TreebankWordTokenizer"
   ]
  },
  {
   "cell_type": "code",
   "execution_count": 16,
   "id": "5071c9bb-cb77-4abd-a24d-556f819a4d51",
   "metadata": {},
   "outputs": [],
   "source": [
    "tokenizer=TreebankWordTokenizer()"
   ]
  },
  {
   "cell_type": "code",
   "execution_count": 18,
   "id": "5169a73d-061d-46c1-9815-74a579d8bb1c",
   "metadata": {},
   "outputs": [
    {
     "data": {
      "text/plain": [
       "['Hello',\n",
       " 'Welcome',\n",
       " ',',\n",
       " 'to',\n",
       " 'piyush',\n",
       " \"'s\",\n",
       " 'NLP',\n",
       " 'Tutorials.',\n",
       " 'Please',\n",
       " 'do',\n",
       " 'explore',\n",
       " 'the',\n",
       " 'entire',\n",
       " 'notebook',\n",
       " '!',\n",
       " 'to',\n",
       " 'become',\n",
       " 'good',\n",
       " 'in',\n",
       " 'NLP',\n",
       " '.']"
      ]
     },
     "execution_count": 18,
     "metadata": {},
     "output_type": "execute_result"
    }
   ],
   "source": [
    "tokenizer.tokenize(corpus)   # here only last full stop (.) is considered as a seperate word"
   ]
  },
  {
   "cell_type": "code",
   "execution_count": null,
   "id": "e100656b-dd96-4124-b457-c2ebdb1db5cd",
   "metadata": {},
   "outputs": [],
   "source": []
  }
 ],
 "metadata": {
  "kernelspec": {
   "display_name": "Python 3 (ipykernel)",
   "language": "python",
   "name": "python3"
  },
  "language_info": {
   "codemirror_mode": {
    "name": "ipython",
    "version": 3
   },
   "file_extension": ".py",
   "mimetype": "text/x-python",
   "name": "python",
   "nbconvert_exporter": "python",
   "pygments_lexer": "ipython3",
   "version": "3.12.3"
  }
 },
 "nbformat": 4,
 "nbformat_minor": 5
}
