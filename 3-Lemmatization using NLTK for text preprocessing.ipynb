{
 "cells": [
  {
   "cell_type": "markdown",
   "id": "ef38cc22-cec0-40d2-b4dc-2081dce9fa96",
   "metadata": {},
   "source": [
    "# Lemmatization using NLTK for text preprocessing :"
   ]
  },
  {
   "cell_type": "markdown",
   "id": "cbca1237-c286-4631-b77d-5191a762a95c",
   "metadata": {},
   "source": [
    "## Wordnet Lemmatizer :"
   ]
  },
  {
   "cell_type": "markdown",
   "id": "d23b8ab5-18e7-4a1b-84e3-27d79a6d1c91",
   "metadata": {},
   "source": [
    "Lemmatization technique is like stemming. The output we will get after lemmatization is called ‘lemma’, which is a root word rather than root stem, the output of stemming. After lemmatization, we will be getting a valid word that means the same thing.\n",
    "\n",
    "NLTK provides WordNetLemmatizer class which is a thin wrapper around the wordnet corpus. This class uses morphy() function to the WordNet CorpusReader class to find a lemma. Let us understand it with an example −"
   ]
  },
  {
   "cell_type": "code",
   "execution_count": 25,
   "id": "617859dd-f4ce-4aab-a026-7c68d525dc05",
   "metadata": {},
   "outputs": [],
   "source": [
    "## Q&A,chatbots,text summarization\n",
    "from nltk.stem import WordNetLemmatizer\n",
    "lemmatizer=WordNetLemmatizer()"
   ]
  },
  {
   "cell_type": "code",
   "execution_count": 26,
   "id": "fe98328a-f055-415c-a1cd-89f1f0ed8e8b",
   "metadata": {},
   "outputs": [
    {
     "data": {
      "text/plain": [
       "'\\nPOS- Noun-n\\nverb-v\\nadjective-a\\nadverb-r\\n'"
      ]
     },
     "execution_count": 26,
     "metadata": {},
     "output_type": "execute_result"
    }
   ],
   "source": [
    "'''\n",
    "POS- Noun-n\n",
    "verb-v\n",
    "adjective-a\n",
    "adverb-r\n",
    "'''"
   ]
  },
  {
   "cell_type": "code",
   "execution_count": 27,
   "id": "22e54edc-d597-4555-bd8e-cef6ef1c3a62",
   "metadata": {},
   "outputs": [],
   "source": [
    "# lemmatizer.lemmatize(\"going\",pos='v')"
   ]
  },
  {
   "cell_type": "code",
   "execution_count": 28,
   "id": "03d1dd71-8168-47a8-acb0-879ebd4407a5",
   "metadata": {},
   "outputs": [],
   "source": [
    "#runnig this produces error:\n",
    "# \"\"\"\n",
    "# LookupError: \n",
    "# **********************************************************************\n",
    "#   Resource wordnet not found.\n",
    "#   Please use the NLTK Downloader to obtain the resource:\n",
    "\n",
    "#   >>> import nltk\n",
    "#   >>> nltk.download('wordnet')\n",
    "#   \"\"\""
   ]
  },
  {
   "cell_type": "code",
   "execution_count": 29,
   "id": "6fbc7b88-564e-47b7-9337-025efc40108c",
   "metadata": {},
   "outputs": [],
   "source": [
    "# import nltk\n",
    "# nltk.download('wordnet')"
   ]
  },
  {
   "cell_type": "code",
   "execution_count": 30,
   "id": "c8f1eec5-b5fa-4be8-86e2-bab7543c3e31",
   "metadata": {},
   "outputs": [
    {
     "data": {
      "text/plain": [
       "'go'"
      ]
     },
     "execution_count": 30,
     "metadata": {},
     "output_type": "execute_result"
    }
   ],
   "source": [
    "lemmatizer.lemmatize(\"going\",pos='v')"
   ]
  },
  {
   "cell_type": "code",
   "execution_count": 31,
   "id": "5200444d-2a49-44ad-a6b9-9e8c9d2c3b5b",
   "metadata": {},
   "outputs": [],
   "source": [
    "words=[\"eating\",\"eats\",\"eaten\",\"writing\",\"writes\",\"programming\",\"programs\",\"history\",\"finally\",\"finalized\"]"
   ]
  },
  {
   "cell_type": "code",
   "execution_count": 32,
   "id": "72cfe589-6aca-4bbf-83f9-3c067de82ee8",
   "metadata": {},
   "outputs": [
    {
     "name": "stdout",
     "output_type": "stream",
     "text": [
      "eating---->eating\n",
      "eats---->eats\n",
      "eaten---->eaten\n",
      "writing---->writing\n",
      "writes---->writes\n",
      "programming---->programming\n",
      "programs---->program\n",
      "history---->history\n",
      "finally---->finally\n",
      "finalized---->finalized\n"
     ]
    }
   ],
   "source": [
    "for word in words:\n",
    "    print(word+\"---->\"+lemmatizer.lemmatize(word,pos='n'))"
   ]
  },
  {
   "cell_type": "code",
   "execution_count": 33,
   "id": "61caab50-559e-4713-834b-1f5f6e8e46e7",
   "metadata": {},
   "outputs": [
    {
     "name": "stdout",
     "output_type": "stream",
     "text": [
      "eating---->eat\n",
      "eats---->eat\n",
      "eaten---->eat\n",
      "writing---->write\n",
      "writes---->write\n",
      "programming---->program\n",
      "programs---->program\n",
      "history---->history\n",
      "finally---->finally\n",
      "finalized---->finalize\n"
     ]
    }
   ],
   "source": [
    "for word in words:\n",
    "    print(word+\"---->\"+lemmatizer.lemmatize(word,pos='v'))"
   ]
  },
  {
   "cell_type": "code",
   "execution_count": 34,
   "id": "38155397-c715-4bbe-ad7e-eb8f95a1f81c",
   "metadata": {},
   "outputs": [
    {
     "data": {
      "text/plain": [
       "'go'"
      ]
     },
     "execution_count": 34,
     "metadata": {},
     "output_type": "execute_result"
    }
   ],
   "source": [
    "lemmatizer.lemmatize(\"goes\",pos='v')"
   ]
  },
  {
   "cell_type": "code",
   "execution_count": 35,
   "id": "1b1aabbf-c96d-4ba5-aa1c-a4dc78abeef6",
   "metadata": {},
   "outputs": [
    {
     "data": {
      "text/plain": [
       "'help'"
      ]
     },
     "execution_count": 35,
     "metadata": {},
     "output_type": "execute_result"
    }
   ],
   "source": [
    "lemmatizer.lemmatize(\"helping\",pos='v')"
   ]
  },
  {
   "cell_type": "code",
   "execution_count": 36,
   "id": "9931f65d-b694-4526-9548-aa1db75213ee",
   "metadata": {},
   "outputs": [
    {
     "data": {
      "text/plain": [
       "('fairly', 'sportingly')"
      ]
     },
     "execution_count": 36,
     "metadata": {},
     "output_type": "execute_result"
    }
   ],
   "source": [
    "lemmatizer.lemmatize(\"fairly\",pos='v'),lemmatizer.lemmatize(\"sportingly\")"
   ]
  },
  {
   "cell_type": "code",
   "execution_count": null,
   "id": "80fb4bc0-e190-43b2-9031-7ecd411b579d",
   "metadata": {},
   "outputs": [],
   "source": []
  }
 ],
 "metadata": {
  "kernelspec": {
   "display_name": "Python 3 (ipykernel)",
   "language": "python",
   "name": "python3"
  },
  "language_info": {
   "codemirror_mode": {
    "name": "ipython",
    "version": 3
   },
   "file_extension": ".py",
   "mimetype": "text/x-python",
   "name": "python",
   "nbconvert_exporter": "python",
   "pygments_lexer": "ipython3",
   "version": "3.12.3"
  }
 },
 "nbformat": 4,
 "nbformat_minor": 5
}
